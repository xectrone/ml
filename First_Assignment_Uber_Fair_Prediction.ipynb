{
  "cells": [
    {
      "cell_type": "code",
      "execution_count": 1,
      "metadata": {
        "id": "vsCWnC_EOIwD"
      },
      "outputs": [],
      "source": [
        "import matplotlib.pyplot as plt\n",
        "import numpy as np\n",
        "import pandas as pd"
      ]
    },
    {
      "cell_type": "code",
      "execution_count": 2,
      "metadata": {
        "id": "F1Nad-nSOadl"
      },
      "outputs": [],
      "source": [
        "uber = pd.read_csv('uber.csv')"
      ]
    },
    {
      "cell_type": "code",
      "execution_count": null,
      "metadata": {
        "colab": {
          "base_uri": "https://localhost:8080/",
          "height": 374
        },
        "id": "PVQtG-g8O-ZF",
        "outputId": "9168b321-57fe-4766-cede-3309f96cd29b"
      },
      "outputs": [],
      "source": [
        "uber.head()"
      ]
    },
    {
      "cell_type": "code",
      "execution_count": null,
      "metadata": {
        "colab": {
          "base_uri": "https://localhost:8080/"
        },
        "id": "Pdqt6EeWO_xC",
        "outputId": "e37c3ad5-714e-4dc8-8b67-73248cdc1fad"
      },
      "outputs": [],
      "source": [
        "uber.info()"
      ]
    },
    {
      "cell_type": "code",
      "execution_count": null,
      "metadata": {
        "colab": {
          "base_uri": "https://localhost:8080/"
        },
        "id": "msYTfibpPGHk",
        "outputId": "71dc9cb8-f461-4478-c534-d17f3d3b6dbc"
      },
      "outputs": [],
      "source": [
        "uber.isnull().sum()"
      ]
    },
    {
      "cell_type": "code",
      "execution_count": 6,
      "metadata": {
        "id": "rqjtlM7xPJVp"
      },
      "outputs": [],
      "source": [
        "uber_2 = uber.drop(['Unnamed: 0','key'],axis=1)\n",
        "uber_2.dropna(axis=0,inplace=True)"
      ]
    },
    {
      "cell_type": "code",
      "execution_count": null,
      "metadata": {
        "colab": {
          "base_uri": "https://localhost:8080/"
        },
        "id": "p6TNtU2TPNKC",
        "outputId": "fd6870f2-b1b2-4238-82e2-27ebaef15413"
      },
      "outputs": [],
      "source": [
        "uber_2.isnull().sum()"
      ]
    },
    {
      "cell_type": "code",
      "execution_count": 8,
      "metadata": {
        "id": "Tf8YBLNQPTtB"
      },
      "outputs": [],
      "source": [
        "def haversine (lon_1, lon_2, lat_1, lat_2):\n",
        "\n",
        "    lon_1, lon_2, lat_1, lat_2 = map(np.radians, [lon_1, lon_2, lat_1, lat_2])  #Degrees to Radians\n",
        "\n",
        "\n",
        "    diff_lon = lon_2 - lon_1\n",
        "    diff_lat = lat_2 - lat_1\n",
        "\n",
        "\n",
        "    km = 2 * 6371 * np.arcsin(np.sqrt(np.sin(diff_lat/2.0)**2 +\n",
        "                                      np.cos(lat_1) * np.cos(lat_2) * np.sin(diff_lon/2.0)**2))\n",
        "\n",
        "    return km\n"
      ]
    },
    {
      "cell_type": "code",
      "execution_count": 9,
      "metadata": {
        "id": "lNd2-N1XPVZK"
      },
      "outputs": [],
      "source": [
        "uber_2['Distance']= haversine(uber_2['pickup_longitude'],uber_2['dropoff_longitude'],\n",
        "                             uber_2['pickup_latitude'],uber_2['dropoff_latitude'])\n",
        "\n",
        "uber_2['Distance'] = uber_2['Distance'].astype(float).round(2)    # Round-off Optional"
      ]
    },
    {
      "cell_type": "code",
      "execution_count": null,
      "metadata": {
        "colab": {
          "base_uri": "https://localhost:8080/",
          "height": 357
        },
        "id": "uGj3hNxVPaOx",
        "outputId": "d20b6e7c-8a2a-4a4a-a9e9-b7b74d312816"
      },
      "outputs": [],
      "source": [
        "uber_2.head()"
      ]
    },
    {
      "cell_type": "code",
      "execution_count": null,
      "metadata": {
        "colab": {
          "base_uri": "https://localhost:8080/",
          "height": 466
        },
        "id": "x3QpQmJDPdyQ",
        "outputId": "1ccdf9a5-230b-41c3-e5ad-42781fc67d4f"
      },
      "outputs": [],
      "source": [
        "plt.scatter(uber_2['Distance'], uber_2['fare_amount'])\n",
        "plt.xlabel(\"Distance\")\n",
        "plt.ylabel(\"fare_amount\")"
      ]
    },
    {
      "cell_type": "code",
      "execution_count": 12,
      "metadata": {
        "id": "TfrADBeoPh1w"
      },
      "outputs": [],
      "source": [
        "uber_2.drop(uber_2[uber_2['Distance'] > 60].index, inplace = True)\n",
        "uber_2.drop(uber_2[uber_2['Distance'] == 0].index, inplace = True)\n",
        "uber_2.drop(uber_2[uber_2['fare_amount'] == 0].index, inplace = True)\n",
        "uber_2.drop(uber_2[uber_2['fare_amount'] < 0].index, inplace = True)"
      ]
    },
    {
      "cell_type": "code",
      "execution_count": 13,
      "metadata": {
        "id": "esM_DjsWPlcQ"
      },
      "outputs": [],
      "source": [
        "uber_2.drop(uber_2[(uber_2['fare_amount']>100) & (uber_2['Distance']<1)].index, inplace = True )\n",
        "uber_2.drop(uber_2[(uber_2['fare_amount']<100) & (uber_2['Distance']>100)].index, inplace = True )"
      ]
    },
    {
      "cell_type": "code",
      "execution_count": null,
      "metadata": {
        "colab": {
          "base_uri": "https://localhost:8080/"
        },
        "id": "3dVU67N_PnsI",
        "outputId": "db21583b-d2f2-48c8-8d15-5459bcd7959d"
      },
      "outputs": [],
      "source": [
        "uber_2.info()"
      ]
    },
    {
      "cell_type": "code",
      "execution_count": null,
      "metadata": {
        "colab": {
          "base_uri": "https://localhost:8080/",
          "height": 466
        },
        "id": "X4w-794MPqC4",
        "outputId": "6c4fd14a-5c6a-4b29-c4ff-6a1b9774c086"
      },
      "outputs": [],
      "source": [
        "plt.scatter(uber_2['Distance'], uber_2['fare_amount'])\n",
        "plt.xlabel(\"Distance\")\n",
        "plt.ylabel(\"fare_amount\")"
      ]
    },
    {
      "cell_type": "code",
      "execution_count": 16,
      "metadata": {
        "id": "brpqLBP1PvD4"
      },
      "outputs": [],
      "source": [
        "uber_2['pickup_datetime'] = pd.to_datetime(uber_2['pickup_datetime'])\n",
        "\n",
        "uber_2['Year'] = uber_2['pickup_datetime'].apply(lambda time: time.year)\n",
        "uber_2['Month'] = uber_2['pickup_datetime'].apply(lambda time: time.month)\n",
        "uber_2['Day'] = uber_2['pickup_datetime'].apply(lambda time: time.day)\n",
        "uber_2['Day of Week'] = uber_2['pickup_datetime'].apply(lambda time: time.dayofweek)\n",
        "uber_2['Day of Week_num'] = uber_2['pickup_datetime'].apply(lambda time: time.dayofweek)\n",
        "uber_2['Hour'] = uber_2['pickup_datetime'].apply(lambda time: time.hour)\n",
        "\n",
        "day_map = {0:'Mon',1:'Tue',2:'Wed',3:'Thu',4:'Fri',5:'Sat',6:'Sun'}\n",
        "uber_2['Day of Week'] = uber_2['Day of Week'].map(day_map)\n",
        "\n",
        "uber_2['counter'] = 1"
      ]
    },
    {
      "cell_type": "code",
      "execution_count": 17,
      "metadata": {
        "id": "I4WkqbLvPzRo"
      },
      "outputs": [],
      "source": [
        "uber_2['pickup'] = uber_2['pickup_latitude'].astype(str) + \",\" + uber_2['pickup_longitude'].astype(str)\n",
        "uber_2['drop off'] = uber_2['dropoff_latitude'].astype(str) + \",\" + uber_2['dropoff_longitude'].astype(str)"
      ]
    },
    {
      "cell_type": "code",
      "execution_count": null,
      "metadata": {
        "colab": {
          "base_uri": "https://localhost:8080/",
          "height": 392
        },
        "id": "cbTVCNuyP1DX",
        "outputId": "0b90b36f-f307-4790-8123-bb2b7a17148a"
      },
      "outputs": [],
      "source": [
        "uber_2.head()"
      ]
    },
    {
      "cell_type": "code",
      "execution_count": null,
      "metadata": {
        "colab": {
          "base_uri": "https://localhost:8080/",
          "height": 482
        },
        "id": "HRT0X5D5P37X",
        "outputId": "6a5a46f9-de83-47ef-b739-61afd27a698d"
      },
      "outputs": [],
      "source": [
        "no_of_trips = []\n",
        "year = [2009, 2010, 2011, 2012, 2013, 2014, 2015]\n",
        "\n",
        "colors = ['#1f77b4', '#ff7f0e', '#2ca02c', '#d62728', '#9467bd',\n",
        "          '#8c564b', '#e377c2', '#7f7f7f', '#bcbd22', '#17becf']\n",
        "\n",
        "for i in range(2009, 2016):\n",
        "    x = uber_2.loc[uber_2['Year'] == i, 'counter'].sum()\n",
        "    no_of_trips.append(x)\n",
        "\n",
        "print(\"Average trips a year: \")\n",
        "print(year, no_of_trips)\n",
        "\n",
        "plt.bar(year, no_of_trips, color=colors)"
      ]
    },
    {
      "cell_type": "code",
      "execution_count": null,
      "metadata": {
        "colab": {
          "base_uri": "https://localhost:8080/",
          "height": 502
        },
        "id": "nEzwUl75P-N3",
        "outputId": "4716ec22-d4e3-4f7b-ce72-9886628cb87f"
      },
      "outputs": [],
      "source": [
        "no_of_trips = []\n",
        "month = ['Jan', 'Feb', 'Mar', 'Apr', 'May', 'Jun', 'Jul', 'Aug', 'Sep', 'Oct', 'Nov', 'Dec']\n",
        "\n",
        "colors = ['#1f77b4', '#ff7f0e', '#2ca02c', '#d62728', '#9467bd',\n",
        "          '#8c564b', '#e377c2', '#7f7f7f', '#bcbd22', '#17becf']\n",
        "\n",
        "for i in range(1, 13):\n",
        "    x = uber_2.loc[uber_2['Month'] == i, 'counter'].sum()\n",
        "    no_of_trips.append(x)\n",
        "\n",
        "print(\"Average trips a Month: \")\n",
        "print(month, no_of_trips)\n",
        "\n",
        "plt.bar(month, no_of_trips, color=colors)"
      ]
    },
    {
      "cell_type": "code",
      "execution_count": null,
      "metadata": {
        "colab": {
          "base_uri": "https://localhost:8080/",
          "height": 482
        },
        "id": "RT74NiszQEQG",
        "outputId": "16ca681f-e0c5-427a-f1bb-ca8ea02916c4"
      },
      "outputs": [],
      "source": [
        "no_of_trips = []\n",
        "day = ['Mon', 'Tue', 'Wed', 'Thu', 'Fri', 'Sat', 'Sun']\n",
        "\n",
        "colors = ['#1f77b4', '#ff7f0e', '#2ca02c', '#d62728', '#9467bd',\n",
        "          '#8c564b', '#e377c2', '#7f7f7f', '#bcbd22', '#17becf']\n",
        "\n",
        "for i in range(0, 7):\n",
        "    x = uber_2.loc[uber_2['Day of Week_num'] == i, 'counter'].sum()\n",
        "    no_of_trips.append(x)\n",
        "\n",
        "print(\"Average trips by Days: \")\n",
        "print(day, no_of_trips)\n",
        "\n",
        "plt.bar(day, no_of_trips, color=colors)"
      ]
    },
    {
      "cell_type": "code",
      "execution_count": null,
      "metadata": {
        "colab": {
          "base_uri": "https://localhost:8080/",
          "height": 489
        },
        "id": "xwUvJwrGQImo",
        "outputId": "67c95023-0c12-4c22-dfc2-8260ef79b882"
      },
      "outputs": [],
      "source": [
        "year_vs_trips = uber_2.groupby(['Year','Month']).agg(\n",
        "    no_of_trips = ('counter','count'),\n",
        "    Average_fair = ('fare_amount','mean'),\n",
        "    Total_fair = ('fare_amount','sum'),\n",
        "    Avg_distance = ( 'Distance', 'mean')).reset_index()\n",
        "\n",
        "year_vs_trips['avg_no_of_trips'] = year_vs_trips['no_of_trips']/30\n",
        "year_vs_trips['month_year'] = year_vs_trips['Month'].astype(str) +\", \"+ year_vs_trips['Year'].astype(str)\n",
        "\n",
        "\n",
        "year_vs_trips = year_vs_trips.reset_index()\n",
        "\n",
        "year_vs_trips.head()\n",
        "\n",
        "\n",
        "year_vs_trips.plot(kind='line',x='month_year',y='no_of_trips', xlabel='January, 2009 - June, 2015',\n",
        "    ylabel='No of Trips', title='No of trips vs Months')"
      ]
    },
    {
      "cell_type": "code",
      "execution_count": null,
      "metadata": {
        "id": "rdz9WYA2QLV5"
      },
      "outputs": [],
      "source": [
        "import seaborn as sns\n",
        "\n",
        "df_1 = uber_2[['Distance', 'Day of Week_num', 'Hour']].copy()\n",
        "\n",
        "df_h = df_1.copy()\n",
        "\n",
        "df_h = df_h.groupby(['Hour', 'Day of Week_num']).mean()\n",
        "df_h = df_h.unstack(level=0)"
      ]
    },
    {
      "cell_type": "code",
      "execution_count": null,
      "metadata": {
        "colab": {
          "base_uri": "https://localhost:8080/",
          "height": 371
        },
        "id": "aAz7FexQQOqe",
        "outputId": "3f1801ea-a6e7-4f57-d464-9dc78d36629d"
      },
      "outputs": [],
      "source": [
        "fig, ax = plt.subplots(figsize=(24, 7))\n",
        "sns.heatmap(df_h, cmap=\"Reds\",\n",
        "           linewidth=0.3, cbar_kws={\"shrink\": .8})\n",
        "\n",
        "xticks_labels = ['12 AM', '01 AM', '02 AM ', '03 AM ', '04 AM ', '05 AM ', '06 AM ', '07 AM ',\n",
        "                 '08 AM ', '09 AM ', '10 AM ', '11 AM ', '12 PM ', '01 PM ', '02 PM ', '03 PM ',\n",
        "                 '04 PM ', '05 PM ', '06 PM ', '07 PM ', '08 PM ', '09 PM ', '10 PM ', '11 PM ']\n",
        "\n",
        "yticks_labels = ['Mon','Tue','Wed','Thu','Fri','Sat','Sun']\n",
        "\n",
        "plt.xticks(np.arange(24) + .5, labels=xticks_labels)\n",
        "plt.yticks(np.arange(7) + .5, labels=yticks_labels)\n",
        "\n",
        "ax.xaxis.tick_top()\n",
        "\n",
        "title = 'Weekly Uber Rides'.upper()\n",
        "plt.title(title, fontdict={'fontsize': 25})\n",
        "\n",
        "plt.show()"
      ]
    },
    {
      "cell_type": "code",
      "execution_count": null,
      "metadata": {
        "colab": {
          "base_uri": "https://localhost:8080/"
        },
        "id": "fsNdFhG4QT6m",
        "outputId": "62610aaf-7f91-4f81-b397-f27abd9077a5"
      },
      "outputs": [],
      "source": [
        "import statistics as st\n",
        "\n",
        "print(\"Mean of fare prices is % s \"\n",
        "         % (st.mean(uber_2['fare_amount'])))\n",
        "\n",
        "print(\"Median of fare prices is % s \"\n",
        "         % (st.median(uber_2['fare_amount'])))\n",
        "\n",
        "print(\"Standard Deviation of Fare Prices is % s \"\n",
        "                % (st.stdev(uber_2['fare_amount'])))"
      ]
    },
    {
      "cell_type": "code",
      "execution_count": null,
      "metadata": {
        "colab": {
          "base_uri": "https://localhost:8080/"
        },
        "id": "MONvWyn9QYjt",
        "outputId": "fcd1cd9e-1c1b-4c26-8035-0710911283c6"
      },
      "outputs": [],
      "source": [
        "import statistics as st\n",
        "\n",
        "print(\"Mean of Distance is % s \"\n",
        "         % (st.mean(uber_2['Distance'])))\n",
        "\n",
        "print(\"Median of Distance is % s \"\n",
        "         % (st.median(uber_2['Distance'])))\n",
        "\n",
        "print(\"Standard Deviation of Distance is % s \"\n",
        "                % (st.stdev(uber_2['Distance'])))"
      ]
    },
    {
      "cell_type": "code",
      "execution_count": null,
      "metadata": {
        "colab": {
          "base_uri": "https://localhost:8080/",
          "height": 616
        },
        "id": "bo8wqlwOQeE2",
        "outputId": "2288c8b6-cda1-45f5-8741-fcfe78b2a7e0"
      },
      "outputs": [],
      "source": [
        "corr = uber_2.corr()\n",
        "\n",
        "corr.style.background_gradient(cmap='BuGn')"
      ]
    },
    {
      "cell_type": "code",
      "execution_count": 29,
      "metadata": {
        "id": "WWgpRUHKQhF9"
      },
      "outputs": [],
      "source": [
        "X = uber_2['Distance'].values.reshape(-1, 1)        #Independent Variable\n",
        "y = uber_2['fare_amount'].values.reshape(-1, 1)     #Dependent Variable"
      ]
    },
    {
      "cell_type": "code",
      "execution_count": null,
      "metadata": {
        "colab": {
          "base_uri": "https://localhost:8080/"
        },
        "id": "KwvVtznqQjjU",
        "outputId": "77821e62-decf-466c-d843-0e470c655cc6"
      },
      "outputs": [],
      "source": [
        "from sklearn.preprocessing import StandardScaler\n",
        "std = StandardScaler()\n",
        "y_std = std.fit_transform(y)\n",
        "print(y_std)\n",
        "\n",
        "x_std = std.fit_transform(X)\n",
        "print(x_std)"
      ]
    },
    {
      "cell_type": "code",
      "execution_count": 31,
      "metadata": {
        "id": "-QUdVg3-QmUC"
      },
      "outputs": [],
      "source": [
        "from sklearn.model_selection import train_test_split\n",
        "X_train, X_test, y_train, y_test = train_test_split(x_std, y_std, test_size=0.2, random_state=0)"
      ]
    },
    {
      "cell_type": "code",
      "execution_count": null,
      "metadata": {
        "colab": {
          "base_uri": "https://localhost:8080/"
        },
        "id": "E4JaeOogQpnM",
        "outputId": "8c5d36ac-fb16-4781-e1a2-188ad46a7922"
      },
      "outputs": [],
      "source": [
        "from sklearn.linear_model import LinearRegression\n",
        "l_reg = LinearRegression()\n",
        "l_reg.fit(X_train, y_train)\n",
        "\n",
        "print(\"Training set score: {:.2f}\".format(l_reg.score(X_train, y_train)))\n",
        "print(\"Test set score: {:.7f}\".format(l_reg.score(X_test, y_test)))"
      ]
    },
    {
      "cell_type": "code",
      "execution_count": null,
      "metadata": {
        "colab": {
          "base_uri": "https://localhost:8080/"
        },
        "id": "f_3uNfTYQsdo",
        "outputId": "e0c5a20d-d10f-4436-a1c3-85f8e2d7c905"
      },
      "outputs": [],
      "source": [
        "y_pred = l_reg.predict(X_test)\n",
        "df = {'Actual': y_test, 'Predicted': y_pred}\n",
        "\n",
        "from tabulate import tabulate\n",
        "print(tabulate(df, headers = 'keys', tablefmt = 'psql'))"
      ]
    },
    {
      "cell_type": "code",
      "execution_count": null,
      "metadata": {
        "colab": {
          "base_uri": "https://localhost:8080/"
        },
        "id": "cVdOiR5LQ2tl",
        "outputId": "6bcc55d5-7d65-4647-a0dd-7e83c75a6277"
      },
      "outputs": [],
      "source": [
        "from sklearn import metrics\n",
        "print('Mean Absolute Error:', metrics.mean_absolute_error(y_test, y_pred))\n",
        "#print('Mean Absolute % Error:', metrics.mean_absolute_percentage_error(y_test, y_pred))\n",
        "print('Mean Squared Error:', metrics.mean_squared_error(y_test, y_pred))\n",
        "print('Root Mean Squared Error:', np.sqrt(metrics.mean_squared_error(y_test, y_pred)))"
      ]
    },
    {
      "cell_type": "code",
      "execution_count": null,
      "metadata": {
        "colab": {
          "base_uri": "https://localhost:8080/"
        },
        "id": "Q3xkri0oQ4_V",
        "outputId": "edd16179-0b9a-4a2d-8026-74e581bb48e6"
      },
      "outputs": [],
      "source": [
        "print(l_reg.intercept_)\n",
        "print(l_reg.coef_)"
      ]
    },
    {
      "cell_type": "code",
      "execution_count": null,
      "metadata": {
        "colab": {
          "base_uri": "https://localhost:8080/",
          "height": 287
        },
        "id": "ocfIrCuMRBHU",
        "outputId": "4d58f8ac-e4e8-48b0-b7e7-f15ae2496e5c"
      },
      "outputs": [],
      "source": [
        "plt.subplot(2, 2, 1)\n",
        "plt.scatter(X_train, y_train, color = 'red')\n",
        "plt.plot(X_train, l_reg.predict(X_train), color =\"blue\")\n",
        "plt.title(\"Fare vs Distance (Training Set)\")\n",
        "plt.ylabel(\"fare_amount\")\n",
        "plt.xlabel(\"Distance\")\n",
        "\n",
        "plt.subplot(2, 2, 2)\n",
        "plt.scatter(X_test, y_test, color = 'red')\n",
        "plt.plot(X_train, l_reg.predict(X_train), color =\"blue\")\n",
        "plt.ylabel(\"fare_amount\")\n",
        "plt.xlabel(\"Distance\")\n",
        "plt.title(\"Fare vs Distance (Test Set)\")\n",
        "\n",
        "\n",
        "plt.tight_layout()\n",
        "plt.rcParams[\"figure.figsize\"] = (32,22)\n",
        "plt.show()"
      ]
    }
  ],
  "metadata": {
    "colab": {
      "provenance": []
    },
    "kernelspec": {
      "display_name": "Python 3",
      "name": "python3"
    },
    "language_info": {
      "codemirror_mode": {
        "name": "ipython",
        "version": 3
      },
      "file_extension": ".py",
      "mimetype": "text/x-python",
      "name": "python",
      "nbconvert_exporter": "python",
      "pygments_lexer": "ipython3",
      "version": "3.12.3"
    }
  },
  "nbformat": 4,
  "nbformat_minor": 0
}
